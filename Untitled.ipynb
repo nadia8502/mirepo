{
 "cells": [
  {
   "cell_type": "code",
   "execution_count": 25,
   "metadata": {},
   "outputs": [
    {
     "name": "stdout",
     "output_type": "stream",
     "text": [
      "    Fuente Proteina\n",
      "0   Grillo       65\n",
      "1  Ternera       33\n",
      "2    Pollo       23\n",
      "3   Salmón       22\n",
      "4   Huevos       12\n"
     ]
    }
   ],
   "source": [
    "import pandas as pd\n",
    "import matplotlib.pyplot as plt\n",
    "import seaborn as sns\n",
    "datos={'Fuente':['Grillo', 'Ternera','Pollo','Salmón','Huevos'],'Proteina':['65','33','23','22','12']}\n",
    "df=pd.DataFrame(datos)\n",
    "#sns.lmplot(x='Fuente',y='Proteínas',data=df,fit_reg=False,hue='Fuente',legend=False)\n",
    "#df.Proteina.groupby(df.Fuente).sum().plot(kind='pie',cmap='Paired')\n",
    "print(df)"
   ]
  },
  {
   "cell_type": "code",
   "execution_count": 24,
   "metadata": {},
   "outputs": [
    {
     "data": {
      "text/plain": [
       "Text(0.5,1,'Proteinas')"
      ]
     },
     "execution_count": 24,
     "metadata": {},
     "output_type": "execute_result"
    },
    {
     "data": {
      "image/png": "[encoded data removed]",
      "text/plain": [
       "<Figure size 432x288 with 1 Axes>"
      ]
     },
     "metadata": {},
     "output_type": "display_data"
    }
   ],
   "source": [
    "import matplotlib.pyplot as plt\n",
    "import numpy as np\n",
    "\n",
    "plt.ion()\n",
    "Fuente = [u'Grillo', u'Ternera',u'Pollo',u'Salmón',u'Huevos']\n",
    "Proteina = ['65','33','23','22','12']\n",
    "plt.pie(Proteina, labels = Fuente)\n",
    "plt.title(\"Proteinas\", bbox={\"facecolor\":\"0.8\",\"pad\":5})"
   ]
  },
  {
   "cell_type": "code",
   "execution_count": null,
   "metadata": {},
   "outputs": [],
   "source": []
  },
  {
   "cell_type": "code",
   "execution_count": 2,
   "metadata": {},
   "outputs": [
    {
     "data": {
      "text/plain": [
       "'3.3.0'"
      ]
     },
     "execution_count": 2,
     "metadata": {},
     "output_type": "execute_result"
    }
   ],
   "source": [
    "import plotly\n",
    "plotly.__version__"
   ]
  },
  {
   "cell_type": "code",
   "execution_count": null,
   "metadata": {},
   "outputs": [],
   "source": []
  }
 ],
 "metadata": {
  "kernelspec": {
   "display_name": "Python 2",
   "language": "python",
   "name": "python2"
  },
  "language_info": {
   "codemirror_mode": {
    "name": "ipython",
    "version": 2
   },
   "file_extension": ".py",
   "mimetype": "text/x-python",
   "name": "python",
   "nbconvert_exporter": "python",
   "pygments_lexer": "ipython2",
   "version": "2.7.15"
  }
 },
 "nbformat": 4,
 "nbformat_minor": 2
}
