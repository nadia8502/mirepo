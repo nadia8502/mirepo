{
 "cells": [
  {
   "cell_type": "code",
   "execution_count": 17,
   "metadata": {
    "scrolled": true
   },
   "outputs": [
    {
     "data": {
      "text/html": [
       "<style>h1{color:#DC143C}.p{color:#0000FF}</style><h1> Cantidad de proteinas<h1><p class=\"p\">Los grillos son un superalimento con alto porcentaje de proteina,te dejamos una comparativa en cuanto a la cantidad de proteina que tiene la harina de grillo.<p/>"
      ],
      "text/plain": [
       "<IPython.core.display.HTML object>"
      ]
     },
     "metadata": {},
     "output_type": "display_data"
    },
    {
     "name": "stdout",
     "output_type": "stream",
     "text": [
      "+---------+----------+\n",
      "|  Fuente | Proteina |\n",
      "+---------+----------+\n",
      "|  Grillo |    65    |\n",
      "| Ternera |    33    |\n",
      "|  Pollo  |    23    |\n",
      "|  Salmón |    22    |\n",
      "|  Huevos |    12    |\n",
      "+---------+----------+\n"
     ]
    }
   ],
   "source": [
    "from prettytable import PrettyTable\n",
    "from IPython.core.display import display, HTML\n",
    "display(HTML('<style>h1{color:#DC143C}' \n",
    "             '.p{color:#0000FF}</style>'\n",
    "             '<h1> Cantidad de proteinas<h1>'\n",
    "             '<p class=\"p\">Los grillos son un superalimento con alto porcentaje de proteina,' \n",
    "             'te dejamos una comparativa en cuanto a la cantidad de proteina que tiene la harina de grillo.<p/>'\n",
    "            ))\n",
    "import pandas as pd\n",
    "import matplotlib.pyplot as plt\n",
    "tabla=PrettyTable(['Fuente','Proteina'])\n",
    "tabla.add_row([\"Grillo\",65])\n",
    "tabla.add_row([\"Ternera\", 33])\n",
    "tabla.add_row([\"Pollo\",23])\n",
    "tabla.add_row([\"Salmón\",22])\n",
    "tabla.add_row([\"Huevos\",12])\n",
    "print tabla"
   ]
  },
  {
   "cell_type": "code",
   "execution_count": 35,
   "metadata": {
    "scrolled": true
   },
   "outputs": [
    {
     "data": {
      "text/plain": [
       "Text(0.5,1,'Fuente de proteina animal')"
      ]
     },
     "execution_count": 35,
     "metadata": {},
     "output_type": "execute_result"
    },
    {
     "data": {
      "image/png": "[encoded data removed]",
      "text/plain": [
       "<Figure size 432x288 with 1 Axes>"
      ]
     },
     "metadata": {
      "needs_background": "light"
     },
     "output_type": "display_data"
    }
   ],
   "source": [
    "import matplotlib.pyplot as plt\n",
    "import numpy as np\n",
    "\n",
    "plt.ion()\n",
    "Fuente = ('Huevos','Salmon','Pollo','Ternera','Grillo')\n",
    "posicion_y = np.arange(len(Fuente))\n",
    "Proteina = ('12%','22%','23%','33%','65%')\n",
    "plt.bar(Fuente, Proteina)\n",
    "plt.title(\"Fuente de proteina animal\")\n",
    "\n"
   ]
  },
  {
   "cell_type": "code",
   "execution_count": null,
   "metadata": {},
   "outputs": [],
   "source": []
  },
  {
   "cell_type": "code",
   "execution_count": 2,
   "metadata": {},
   "outputs": [
    {
     "data": {
      "text/plain": [
       "'3.3.0'"
      ]
     },
     "execution_count": 2,
     "metadata": {},
     "output_type": "execute_result"
    }
   ],
   "source": [
    "import plotly\n",
    "plotly.__version__"
   ]
  },
  {
   "cell_type": "code",
   "execution_count": null,
   "metadata": {},
   "outputs": [],
   "source": []
  }
 ],
 "metadata": {
  "kernelspec": {
   "display_name": "Python 2",
   "language": "python",
   "name": "python2"
  },
  "language_info": {
   "codemirror_mode": {
    "name": "ipython",
    "version": 2
   },
   "file_extension": ".py",
   "mimetype": "text/x-python",
   "name": "python",
   "nbconvert_exporter": "python",
   "pygments_lexer": "ipython2",
   "version": "2.7.15"
  }
 },
 "nbformat": 4,
 "nbformat_minor": 2
}
